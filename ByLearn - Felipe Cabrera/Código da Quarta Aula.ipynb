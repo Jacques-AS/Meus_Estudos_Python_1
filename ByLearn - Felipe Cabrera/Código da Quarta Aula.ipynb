{
  "nbformat": 4,
  "nbformat_minor": 0,
  "metadata": {
    "colab": {
      "name": "Aula04.ipynb",
      "provenance": []
    },
    "kernelspec": {
      "name": "python3",
      "display_name": "Python 3"
    },
    "language_info": {
      "name": "python"
    }
  },
  "cells": [
    {
      "cell_type": "markdown",
      "source": [
        "# Funções\n",
        "\n",
        "Servem para definir rotinas e evitar repetições"
      ],
      "metadata": {
        "id": "h7ZZPmpR0KzM"
      }
    },
    {
      "cell_type": "code",
      "execution_count": 1,
      "metadata": {
        "colab": {
          "base_uri": "https://localhost:8080/"
        },
        "id": "pnTI-MLNxrA5",
        "outputId": "48f03fdf-dcfb-4dc7-e29c-40aafeaa8f41"
      },
      "outputs": [
        {
          "output_type": "stream",
          "name": "stdout",
          "text": [
            "Eu sou o Felipe\n"
          ]
        }
      ],
      "source": [
        "def mostrar_nome():\n",
        "  print(\"Eu sou o Felipe\")\n",
        "\n",
        "mostrar_nome()"
      ]
    },
    {
      "cell_type": "code",
      "source": [
        "def mostrar_nome(nome):\n",
        "  print(f\"Prazer, {nome}\")\n",
        "\n",
        "meu_nome = input(\"Qual o seu nome? \")\n",
        "mostrar_nome(meu_nome)"
      ],
      "metadata": {
        "colab": {
          "base_uri": "https://localhost:8080/"
        },
        "id": "oxf6QCk1yHoJ",
        "outputId": "5c2a1b74-8405-4646-96b4-1d38b9869f02"
      },
      "execution_count": 5,
      "outputs": [
        {
          "output_type": "stream",
          "name": "stdout",
          "text": [
            "Qual o seu nome? Fulano\n",
            "Prazer, Fulano\n"
          ]
        }
      ]
    },
    {
      "cell_type": "code",
      "source": [
        "def somar(numero1, numero2):\n",
        "  soma = numero1 + numero2\n",
        "  return soma\n",
        "\n",
        "def subtrair(numero1, numero2):\n",
        "  subtracao = numero1 - numero2\n",
        "  return subtracao"
      ],
      "metadata": {
        "id": "n37xBNg7yIKc"
      },
      "execution_count": 17,
      "outputs": []
    },
    {
      "cell_type": "code",
      "source": [
        "somar(10,5)"
      ],
      "metadata": {
        "colab": {
          "base_uri": "https://localhost:8080/"
        },
        "id": "BGbGPYcuynm8",
        "outputId": "8c678e12-f6d9-4518-fc98-3d351cc364db"
      },
      "execution_count": 9,
      "outputs": [
        {
          "output_type": "stream",
          "name": "stdout",
          "text": [
            "15\n"
          ]
        }
      ]
    },
    {
      "cell_type": "code",
      "source": [
        "subtrair(10,2)"
      ],
      "metadata": {
        "colab": {
          "base_uri": "https://localhost:8080/"
        },
        "id": "YRxWgXlVyqk0",
        "outputId": "b8542c42-c5be-4813-fe2a-c3f3603c0ca1"
      },
      "execution_count": 12,
      "outputs": [
        {
          "output_type": "stream",
          "name": "stdout",
          "text": [
            "8\n"
          ]
        }
      ]
    },
    {
      "cell_type": "code",
      "source": [
        "# Soma(10,5) - Subtração(5,2)\n",
        "# 10 + 5  -  (5-2)\n",
        "# 15 - (3)\n",
        "# 15 - 3\n",
        "# 12\n",
        "resultado = somar(10,5) - subtrair(5,2)\n",
        "\n",
        "#resultado = 15 - 3\n",
        "\n",
        "print(resultado)"
      ],
      "metadata": {
        "colab": {
          "base_uri": "https://localhost:8080/"
        },
        "id": "24ysdDSoyuys",
        "outputId": "bf4a2b2b-7c71-4aee-8b2e-c7b05459ad32"
      },
      "execution_count": 21,
      "outputs": [
        {
          "output_type": "stream",
          "name": "stdout",
          "text": [
            "12\n"
          ]
        }
      ]
    },
    {
      "cell_type": "code",
      "source": [
        "soma = somar(10,5)"
      ],
      "metadata": {
        "id": "vX72jfOLy8fR"
      },
      "execution_count": 18,
      "outputs": []
    },
    {
      "cell_type": "code",
      "source": [
        "soma"
      ],
      "metadata": {
        "colab": {
          "base_uri": "https://localhost:8080/"
        },
        "id": "sv2OhydMzIm7",
        "outputId": "2c0ccd92-59ec-45cb-c2de-bc1053e802b2"
      },
      "execution_count": 19,
      "outputs": [
        {
          "output_type": "execute_result",
          "data": {
            "text/plain": [
              "15"
            ]
          },
          "metadata": {},
          "execution_count": 19
        }
      ]
    },
    {
      "cell_type": "code",
      "source": [
        "resultado_soma = somar(10,5)\n",
        "resultado_subtracao = subtrair(5,2)\n",
        "\n",
        "resultado =  resultado_soma - resultado_subtracao "
      ],
      "metadata": {
        "id": "1FNVqLEnzUoe"
      },
      "execution_count": 22,
      "outputs": []
    },
    {
      "cell_type": "code",
      "source": [
        "resultado"
      ],
      "metadata": {
        "colab": {
          "base_uri": "https://localhost:8080/"
        },
        "id": "ezwSgdDMzkug",
        "outputId": "3e05e637-72f0-4d61-c212-5e11d5fd0f67"
      },
      "execution_count": 23,
      "outputs": [
        {
          "output_type": "execute_result",
          "data": {
            "text/plain": [
              "12"
            ]
          },
          "metadata": {},
          "execution_count": 23
        }
      ]
    },
    {
      "cell_type": "markdown",
      "source": [
        "# While"
      ],
      "metadata": {
        "id": "w-Hx3F8A0N-n"
      }
    },
    {
      "cell_type": "code",
      "source": [
        "for numero in range(10):\n",
        "  print(numero)"
      ],
      "metadata": {
        "colab": {
          "base_uri": "https://localhost:8080/"
        },
        "id": "FlvDJghT0Ovt",
        "outputId": "3d2e4a43-5ba8-4890-d548-4728a19fb012"
      },
      "execution_count": 24,
      "outputs": [
        {
          "output_type": "stream",
          "name": "stdout",
          "text": [
            "0\n",
            "1\n",
            "2\n",
            "3\n",
            "4\n",
            "5\n",
            "6\n",
            "7\n",
            "8\n",
            "9\n"
          ]
        }
      ]
    },
    {
      "cell_type": "code",
      "source": [
        "lista = [\"Oi\", \"Eu\", \"Sou\", \"o\", \"Felipe\"]\n",
        "\n",
        "for palavra in lista:\n",
        "  print(palavra)"
      ],
      "metadata": {
        "colab": {
          "base_uri": "https://localhost:8080/"
        },
        "id": "HE8m1p0g0SD1",
        "outputId": "8e6c29b1-a094-41f9-f0ca-f4c51d975d64"
      },
      "execution_count": 25,
      "outputs": [
        {
          "output_type": "stream",
          "name": "stdout",
          "text": [
            "Oi\n",
            "Eu\n",
            "Sou\n",
            "o\n",
            "Felipe\n"
          ]
        }
      ]
    },
    {
      "cell_type": "code",
      "source": [
        "nome = input(\"Digite seu nome: \") \n",
        "\n",
        "while nome != \"Fulano\":\n",
        "  print(\"Você não é o Fulano!\")\n",
        "  nome = input(\"Digite seu nome: \")\n",
        "\n",
        "print(\"Olá Fulano\")\n",
        "\n",
        "# Enquanto em inglês é While\n",
        "# Enquanto não digitar Fulano, eu vou pedir o nome novamente"
      ],
      "metadata": {
        "colab": {
          "base_uri": "https://localhost:8080/"
        },
        "id": "-v7GHQFt0dOf",
        "outputId": "5cd6bffd-ef94-4fe9-ec46-0f4add9cdf0a"
      },
      "execution_count": 27,
      "outputs": [
        {
          "output_type": "stream",
          "name": "stdout",
          "text": [
            "Digite seu nome: dasd\n",
            "Você não é o Fulano!\n",
            "Digite seu nome: asd\n",
            "Você não é o Fulano!\n",
            "Digite seu nome: asd\n",
            "Você não é o Fulano!\n",
            "Digite seu nome: Fulano\n",
            "Olá Fulano\n"
          ]
        }
      ]
    },
    {
      "cell_type": "code",
      "source": [
        "import random\n",
        "\n",
        "numero_magico = random.randint(1,50)\n",
        "\n",
        "print(\"Eu duvido você acertar o número mágico\")\n",
        "\n",
        "numero_escolhido = int(input(\"Digite um número: \"))\n",
        "\n",
        "while numero_escolhido != numero_magico:\n",
        "  print(\"Errou, tente de novo!\")\n",
        "\n",
        "  if numero_escolhido > numero_magico:\n",
        "    print(\"O número mágico é menor\")\n",
        "  elif numero_escolhido < numero_magico:\n",
        "    print(\"O número mágico é maior\")\n",
        "\n",
        "  numero_escolhido = int(input(\"Digite um número: \"))\n",
        "\n",
        "print(\"Acertou! O número mágico é\", numero_magico)"
      ],
      "metadata": {
        "colab": {
          "base_uri": "https://localhost:8080/"
        },
        "id": "oCFfDZy10-Qx",
        "outputId": "3a205774-f9d1-4642-e256-aa3264050d24"
      },
      "execution_count": 34,
      "outputs": [
        {
          "output_type": "stream",
          "name": "stdout",
          "text": [
            "Eu duvido você acertar o número mágico\n",
            "Digite um número: 25\n",
            "Errou, tente de novo!\n",
            "O número mágico é menor\n",
            "Digite um número: 15\n",
            "Errou, tente de novo!\n",
            "O número mágico é maior\n",
            "Digite um número: 20\n",
            "Errou, tente de novo!\n",
            "O número mágico é menor\n",
            "Digite um número: 18\n",
            "Errou, tente de novo!\n",
            "O número mágico é menor\n",
            "Digite um número: 17\n",
            "Acertou! O número mágico é 17\n"
          ]
        }
      ]
    },
    {
      "cell_type": "code",
      "source": [
        ""
      ],
      "metadata": {
        "id": "JcdhKKwh1t_f"
      },
      "execution_count": null,
      "outputs": []
    }
  ]
}