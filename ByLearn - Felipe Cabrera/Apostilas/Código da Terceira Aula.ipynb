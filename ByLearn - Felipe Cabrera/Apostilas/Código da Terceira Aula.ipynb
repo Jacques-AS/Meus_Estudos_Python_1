{
  "nbformat": 4,
  "nbformat_minor": 0,
  "metadata": {
    "colab": {
      "name": "Aula3.ipynb",
      "provenance": [],
      "collapsed_sections": []
    },
    "kernelspec": {
      "name": "python3",
      "display_name": "Python 3"
    },
    "language_info": {
      "name": "python"
    }
  },
  "cells": [
    {
      "cell_type": "markdown",
      "source": [
        "# Condicionais:\n",
        "\n",
        "São utilizadas para atribuir uma lógica no nosso código. \n",
        "\n",
        "\n",
        "\n",
        "*   Igual  ==\n",
        "*   Diferente !=\n",
        "*   Menor  <\n",
        "*   Menor Igual  <=\n",
        "*   Maior  >\n",
        "*   Maior Igual >=\n",
        "\n"
      ],
      "metadata": {
        "id": "qM854MbKrA-C"
      }
    },
    {
      "cell_type": "code",
      "execution_count": 5,
      "metadata": {
        "colab": {
          "base_uri": "https://localhost:8080/"
        },
        "id": "QHl6DNa9pNNL",
        "outputId": "30d5253b-3290-4f16-dbb0-c8ac721fb8f0"
      },
      "outputs": [
        {
          "output_type": "stream",
          "name": "stdout",
          "text": [
            "Está de noite\n",
            "Tenha uma boa noite\n",
            "Vamos estudar!\n"
          ]
        }
      ],
      "source": [
        "horario = \"noite\"\n",
        "\n",
        "if horario == \"dia\":\n",
        "  print(\"Está de dia\")\n",
        "elif horario == \"tarde\":\n",
        "  print(\"Está de tarde\")\n",
        "elif horario == \"noite\":\n",
        "  print(\"Está de noite\")\n",
        "  print(\"Tenha uma boa noite\")\n",
        "  print(\"Vamos estudar!\")\n",
        "else:\n",
        "  print(\"Está de madruga\")"
      ]
    },
    {
      "cell_type": "code",
      "source": [
        "idade = 18\n",
        "\n",
        "if idade >= 18:\n",
        "  print(\"Pode entrar no bar\")\n",
        "else:\n",
        "  print(\"Não pode entrar no bar\")"
      ],
      "metadata": {
        "colab": {
          "base_uri": "https://localhost:8080/"
        },
        "id": "Fay31rutpryC",
        "outputId": "42b16905-9fa3-41d1-c87d-9418894871f7"
      },
      "execution_count": 7,
      "outputs": [
        {
          "output_type": "stream",
          "name": "stdout",
          "text": [
            "Pode entrar no bar\n"
          ]
        }
      ]
    },
    {
      "cell_type": "code",
      "source": [
        "temperatura = 23\n",
        "\n",
        "if temperatura <= 30:\n",
        "  print(\"Está aceitável\")\n",
        "else:\n",
        "  print(\"Está muito quente\")"
      ],
      "metadata": {
        "colab": {
          "base_uri": "https://localhost:8080/"
        },
        "id": "Wi5A6C6VqJOi",
        "outputId": "eb717b2d-347d-4e56-f368-ac397792b26c"
      },
      "execution_count": 8,
      "outputs": [
        {
          "output_type": "stream",
          "name": "stdout",
          "text": [
            "Está aceitável\n"
          ]
        }
      ]
    },
    {
      "cell_type": "code",
      "source": [
        "dia = 15\n",
        "\n",
        "if dia < 15:\n",
        "  print(\"Dia 15 ainda não chegou\")\n",
        "else:\n",
        "  print(\"Dia 15 já chegou\")"
      ],
      "metadata": {
        "colab": {
          "base_uri": "https://localhost:8080/"
        },
        "id": "EPWJw2RQqhTn",
        "outputId": "6749e4bb-efc2-4cce-b7e5-5be8f8a36915"
      },
      "execution_count": 11,
      "outputs": [
        {
          "output_type": "stream",
          "name": "stdout",
          "text": [
            "Dia 15 já chegou\n"
          ]
        }
      ]
    },
    {
      "cell_type": "code",
      "source": [
        "idade = 18\n",
        "\n",
        "if idade > 18:\n",
        "  print(\"Pode beber\")\n",
        "else:\n",
        "  print(\"Não pode beber\")"
      ],
      "metadata": {
        "colab": {
          "base_uri": "https://localhost:8080/"
        },
        "id": "P1JWrUkSqs2I",
        "outputId": "a97a617f-2a2c-49f2-c9ca-c19d58bf652b"
      },
      "execution_count": 12,
      "outputs": [
        {
          "output_type": "stream",
          "name": "stdout",
          "text": [
            "Não pode beber\n"
          ]
        }
      ]
    },
    {
      "cell_type": "code",
      "source": [
        "numero_escolhido = 10\n",
        "\n",
        "chute = int(input(\"Escolha um número: \"))\n",
        "\n",
        "if chute != 10:\n",
        "  print(\"Ops... Não é esse número\")\n",
        "else:\n",
        "  print(\"Acertou o número!\")"
      ],
      "metadata": {
        "colab": {
          "base_uri": "https://localhost:8080/"
        },
        "id": "0Vj2J4ccq4_K",
        "outputId": "8dc80d8a-bd50-4f88-d4aa-530e7d924d71"
      },
      "execution_count": 16,
      "outputs": [
        {
          "output_type": "stream",
          "name": "stdout",
          "text": [
            "Escolha um número: 10\n",
            "Acertou o número!\n"
          ]
        }
      ]
    },
    {
      "cell_type": "code",
      "source": [
        "numero = 3\n",
        "\n",
        "if numero == 1:\n",
        "  print(\"É permitido\")\n",
        "elif numero == 2:\n",
        "  print(\"Não é permitido\")\n",
        "elif numero == 3:\n",
        "  print(\"É permitido\")\n",
        "elif numero == 4:\n",
        "  print(\"É permitido\")\n",
        "elif numero == 5:\n",
        "  print(\"Não é permitido\")\n",
        "elif numero == 6:\n",
        "  print(\"É permitido\")\n",
        "else:\n",
        "  print(\"Não é permitido\")"
      ],
      "metadata": {
        "colab": {
          "base_uri": "https://localhost:8080/"
        },
        "id": "4IXBYIehswQ6",
        "outputId": "80b4b779-6860-4ab5-83ad-42e5727defb6"
      },
      "execution_count": 21,
      "outputs": [
        {
          "output_type": "stream",
          "name": "stdout",
          "text": [
            "É permitido\n"
          ]
        }
      ]
    },
    {
      "cell_type": "markdown",
      "source": [
        "# Operadores Lógicos\n",
        "\n",
        "Objetivo é de criar condições compostas (mais elaboradas).\n",
        "\n",
        "\n",
        "Ou seja => Lógica mais avançada \n",
        "\n",
        "\n",
        "\n",
        "*   E  => \"Isso\" e mais \"Aquilo\" => Todas\n",
        "  * and\n",
        "*   OU => \"Isso\" ou senão \"Aquilo\" => Um ou Outro\n",
        "  * or\n",
        "\n"
      ],
      "metadata": {
        "id": "6N-YjSertwoB"
      }
    },
    {
      "cell_type": "code",
      "source": [
        "numero = 3\n",
        "\n",
        "if numero == 1 or numero == 3 or numero == 4 or numero == 6:\n",
        "  print(\"É permitido\")\n",
        "else:\n",
        "  print(\"Não é permitido\")"
      ],
      "metadata": {
        "colab": {
          "base_uri": "https://localhost:8080/"
        },
        "id": "Ei3txRWHtNUd",
        "outputId": "90ed884a-f19c-438c-9ec1-ec2e5eba4512"
      },
      "execution_count": 22,
      "outputs": [
        {
          "output_type": "stream",
          "name": "stdout",
          "text": [
            "É permitido\n"
          ]
        }
      ]
    },
    {
      "cell_type": "code",
      "source": [
        "dia = \"domingo\"\n",
        "\n",
        "if dia == \"sabado\" or dia == \"domingo\":\n",
        "  print(\"Chegou fim de semana\")\n",
        "elif dia == \"sexta\":\n",
        "  print(\"#Sextou\")\n",
        "else:\n",
        "  print(\"Ainda é dia de semana #BoraEstudar\")"
      ],
      "metadata": {
        "colab": {
          "base_uri": "https://localhost:8080/"
        },
        "id": "6SJzrd7sugot",
        "outputId": "6424bcfd-3193-4c4f-91c8-189022e0d9bd"
      },
      "execution_count": 24,
      "outputs": [
        {
          "output_type": "stream",
          "name": "stdout",
          "text": [
            "Chegou fim de semana\n"
          ]
        }
      ]
    },
    {
      "cell_type": "code",
      "source": [
        "horario = \"dia\"\n",
        "temperatura = \"frio\"\n",
        "\n",
        "if horario == \"dia\" and temperatura == \"quente\":\n",
        "  print(\"Bora tomar um açai\")\n",
        "elif horario == \"noite\" and temperatura == \"quente\":\n",
        "  print(\"Comer uma fruta ou um doce (gelatina)\")\n",
        "elif horario == \"noite\" and temperatura == \"frio\":\n",
        "  print(\"Chocolate (principalmente um fondue)\")\n",
        "else:\n",
        "  print(\"Come qualquer coisa, vai...\")"
      ],
      "metadata": {
        "colab": {
          "base_uri": "https://localhost:8080/"
        },
        "id": "fWKxSW3ru1FU",
        "outputId": "b7ad33d0-ede4-4d89-bcf6-2fee0c0089a0"
      },
      "execution_count": 27,
      "outputs": [
        {
          "output_type": "stream",
          "name": "stdout",
          "text": [
            "Come qualquer coisa, vai...\n"
          ]
        }
      ]
    },
    {
      "cell_type": "code",
      "source": [
        "# Todos os números entre 3 e 7 \n",
        "\n",
        "numero = 6\n",
        "\n",
        "if numero >= 3 and numero <= 7:\n",
        "  print(\"Número aceito\")\n",
        "else:\n",
        "  print(\"Número não aceito\")\n"
      ],
      "metadata": {
        "colab": {
          "base_uri": "https://localhost:8080/"
        },
        "id": "ITMUxwMbvazh",
        "outputId": "a65fd509-79c4-44ab-a307-3a86030c6be1"
      },
      "execution_count": 32,
      "outputs": [
        {
          "output_type": "stream",
          "name": "stdout",
          "text": [
            "Número aceito\n"
          ]
        }
      ]
    },
    {
      "cell_type": "code",
      "source": [
        "horario = \"dia\"\n",
        "temperatura = \"frio\"\n",
        "\n",
        "if horario == \"dia\":\n",
        "  print(\"Está de dia\")\n",
        "  if temperatura == \"quente\":\n",
        "    print(\"Tomar um açai\")\n",
        "  else:\n",
        "    print(\"Come qualquer coisa\")\n",
        "else:\n",
        "  print(\"Está de noite\")\n",
        "  if temperatura == \"quente\":\n",
        "    print(\"Comer uma fruta ou um doce (gelatina)\")\n",
        "  else:\n",
        "    print(\"Chocolate (principalmente um fondue)\")\n"
      ],
      "metadata": {
        "colab": {
          "base_uri": "https://localhost:8080/"
        },
        "id": "Sbg57VXHvuoh",
        "outputId": "bb1b9b98-2507-4939-87c7-db40d54bac13"
      },
      "execution_count": 33,
      "outputs": [
        {
          "output_type": "stream",
          "name": "stdout",
          "text": [
            "Está de dia\n",
            "Come qualquer coisa\n"
          ]
        }
      ]
    },
    {
      "cell_type": "markdown",
      "source": [
        "# Laços de Repetição\n",
        "\n",
        "É uma forma simples de evitar repetição de código.\n",
        "\n",
        "Ele permite executar o mesmo código várias e várias vezes.\n",
        "\n",
        "## Sintaxe\n",
        "\n",
        "``` for variavel in intervalo/sequencia: ```\n",
        "\n",
        "for => Sintaxe do Python para \"*Para Cada*\"\n",
        "\n",
        "variavel => Elemento que estamos trabalhando no momento\n",
        "\n",
        "in => Sintaxe do Python para \"*Onde vamos repetir*\"\n",
        "\n",
        "intervalo/sequencia => Definimos onde vamos repetir (o que usar)"
      ],
      "metadata": {
        "id": "4xYT-D7q_EaT"
      }
    },
    {
      "cell_type": "code",
      "source": [
        "print(1)\n",
        "print(2)\n",
        "print(3)\n",
        "print(4)\n",
        "print(5)\n",
        "print(6)\n",
        "print(7)\n",
        "print(8)\n",
        "print(9)\n",
        "print(10)"
      ],
      "metadata": {
        "colab": {
          "base_uri": "https://localhost:8080/"
        },
        "id": "PmmNfcJMwl4X",
        "outputId": "3a9c038c-5a6d-4d97-97b7-0c779b447e4a"
      },
      "execution_count": 34,
      "outputs": [
        {
          "output_type": "stream",
          "name": "stdout",
          "text": [
            "1\n",
            "2\n",
            "3\n",
            "4\n",
            "5\n",
            "6\n",
            "7\n",
            "8\n",
            "9\n",
            "10\n"
          ]
        }
      ]
    },
    {
      "cell_type": "code",
      "source": [
        "# para  variavel no intervalo:\n",
        "for numero in range(10):\n",
        "  print(numero)"
      ],
      "metadata": {
        "colab": {
          "base_uri": "https://localhost:8080/"
        },
        "id": "yklUekW3_Mba",
        "outputId": "4ba9973e-a7a1-4fe6-d9ce-f1ac6120273c"
      },
      "execution_count": 35,
      "outputs": [
        {
          "output_type": "stream",
          "name": "stdout",
          "text": [
            "0\n",
            "1\n",
            "2\n",
            "3\n",
            "4\n",
            "5\n",
            "6\n",
            "7\n",
            "8\n",
            "9\n"
          ]
        }
      ]
    },
    {
      "cell_type": "code",
      "source": [
        "for numero in range(1,11):\n",
        "  print(numero)"
      ],
      "metadata": {
        "colab": {
          "base_uri": "https://localhost:8080/"
        },
        "id": "FbUAQhTy_4sQ",
        "outputId": "402f1cf5-1cb5-4bce-e8da-74d733028b0a"
      },
      "execution_count": 37,
      "outputs": [
        {
          "output_type": "stream",
          "name": "stdout",
          "text": [
            "1\n",
            "2\n",
            "3\n",
            "4\n",
            "5\n",
            "6\n",
            "7\n",
            "8\n",
            "9\n",
            "10\n"
          ]
        }
      ]
    },
    {
      "cell_type": "code",
      "source": [
        "for numero in range(3):\n",
        "  print(numero)"
      ],
      "metadata": {
        "colab": {
          "base_uri": "https://localhost:8080/"
        },
        "id": "ciVcuFPyBK1l",
        "outputId": "f8db2339-1522-457d-8624-aa4c129ee1ec"
      },
      "execution_count": 38,
      "outputs": [
        {
          "output_type": "stream",
          "name": "stdout",
          "text": [
            "0\n",
            "1\n",
            "2\n"
          ]
        }
      ]
    },
    {
      "cell_type": "code",
      "source": [
        "print(numero_legal) "
      ],
      "metadata": {
        "colab": {
          "base_uri": "https://localhost:8080/",
          "height": 171
        },
        "id": "hzQ7HzDQBNd3",
        "outputId": "0244c010-657a-4fbc-f4bb-1502c64951c6"
      },
      "execution_count": 40,
      "outputs": [
        {
          "output_type": "error",
          "ename": "NameError",
          "evalue": "ignored",
          "traceback": [
            "\u001b[0;31m---------------------------------------------------------------------------\u001b[0m",
            "\u001b[0;31mNameError\u001b[0m                                 Traceback (most recent call last)",
            "\u001b[0;32m<ipython-input-40-574d3ecceca8>\u001b[0m in \u001b[0;36m<module>\u001b[0;34m()\u001b[0m\n\u001b[0;32m----> 1\u001b[0;31m \u001b[0mprint\u001b[0m\u001b[0;34m(\u001b[0m\u001b[0mnumero_legal\u001b[0m\u001b[0;34m)\u001b[0m\u001b[0;34m\u001b[0m\u001b[0;34m\u001b[0m\u001b[0m\n\u001b[0m",
            "\u001b[0;31mNameError\u001b[0m: name 'numero_legal' is not defined"
          ]
        }
      ]
    },
    {
      "cell_type": "code",
      "source": [
        "for valor_atual in range(1,6):\n",
        "  print(\"Eu executei e estou valendo:\", valor_atual)"
      ],
      "metadata": {
        "colab": {
          "base_uri": "https://localhost:8080/"
        },
        "id": "WU4uEghhBeys",
        "outputId": "3538feda-a091-4d3d-a76c-3c717a41b114"
      },
      "execution_count": 45,
      "outputs": [
        {
          "output_type": "stream",
          "name": "stdout",
          "text": [
            "Eu executei e estou valendo: 1\n",
            "Eu executei e estou valendo: 2\n",
            "Eu executei e estou valendo: 3\n",
            "Eu executei e estou valendo: 4\n",
            "Eu executei e estou valendo: 5\n"
          ]
        }
      ]
    },
    {
      "cell_type": "code",
      "source": [
        "for valor_atual in range(1,10):\n",
        "  print(f\"O valor atual é {valor_atual}\")\n",
        "  print(f\"- O dobro é: {valor_atual * 2}\")\n",
        "  print(f\"- O triplo é: {valor_atual * 3}\")"
      ],
      "metadata": {
        "colab": {
          "base_uri": "https://localhost:8080/"
        },
        "id": "gmAIIzlvBpFL",
        "outputId": "f13000ec-84eb-402f-d496-d0837a720c0e"
      },
      "execution_count": 46,
      "outputs": [
        {
          "output_type": "stream",
          "name": "stdout",
          "text": [
            "O valor atual é 1\n",
            "- O dobro é: 2\n",
            "- O triplo é: 3\n",
            "O valor atual é 2\n",
            "- O dobro é: 4\n",
            "- O triplo é: 6\n",
            "O valor atual é 3\n",
            "- O dobro é: 6\n",
            "- O triplo é: 9\n",
            "O valor atual é 4\n",
            "- O dobro é: 8\n",
            "- O triplo é: 12\n",
            "O valor atual é 5\n",
            "- O dobro é: 10\n",
            "- O triplo é: 15\n",
            "O valor atual é 6\n",
            "- O dobro é: 12\n",
            "- O triplo é: 18\n",
            "O valor atual é 7\n",
            "- O dobro é: 14\n",
            "- O triplo é: 21\n",
            "O valor atual é 8\n",
            "- O dobro é: 16\n",
            "- O triplo é: 24\n",
            "O valor atual é 9\n",
            "- O dobro é: 18\n",
            "- O triplo é: 27\n"
          ]
        }
      ]
    },
    {
      "cell_type": "code",
      "source": [
        "for numero in range(1,11):\n",
        "  if numero == 5:\n",
        "    print(\"Obaaa! Número 5\")\n",
        "  elif numero < 5:\n",
        "    print(\"Ainda não chegou em 5 :(\")\n",
        "  else:\n",
        "    print(\"Já passamos de 5... VOLTA! VOLTA!\")"
      ],
      "metadata": {
        "colab": {
          "base_uri": "https://localhost:8080/"
        },
        "id": "zo1_CdBpCKgn",
        "outputId": "8f720d63-7b68-4b35-cb64-f5eedd60e33f"
      },
      "execution_count": 47,
      "outputs": [
        {
          "output_type": "stream",
          "name": "stdout",
          "text": [
            "Ainda não chegou em 5 :(\n",
            "Ainda não chegou em 5 :(\n",
            "Ainda não chegou em 5 :(\n",
            "Ainda não chegou em 5 :(\n",
            "Obaaa! Número 5\n",
            "Já passamos de 5... VOLTA! VOLTA!\n",
            "Já passamos de 5... VOLTA! VOLTA!\n",
            "Já passamos de 5... VOLTA! VOLTA!\n",
            "Já passamos de 5... VOLTA! VOLTA!\n",
            "Já passamos de 5... VOLTA! VOLTA!\n"
          ]
        }
      ]
    },
    {
      "cell_type": "code",
      "source": [
        "gatinhos = [\"Flash\", \"Greg\", \"Pooky\", \"Batman\", \"Kratos\", \"Felix\", \"Doctor\", \"Gohan\", \"Robin\", \"Gandalf\", \"Obi-Wan\"]\n",
        "\n",
        "for gato in gatinhos:\n",
        "  print(f\"O Felipe tem um gato chamado: {gato}\")\n",
        "  print(f\"O nome do {gato} tem {len(gato)} letras\")\n"
      ],
      "metadata": {
        "colab": {
          "base_uri": "https://localhost:8080/"
        },
        "id": "iVhYjuN9CrxZ",
        "outputId": "a50e4b94-de65-4a0b-e999-74d4942ff3f7"
      },
      "execution_count": 49,
      "outputs": [
        {
          "output_type": "stream",
          "name": "stdout",
          "text": [
            "O Felipe tem um gato chamado: Flash\n",
            "O nome do Flash tem 5 letras\n",
            "O Felipe tem um gato chamado: Greg\n",
            "O nome do Greg tem 4 letras\n",
            "O Felipe tem um gato chamado: Pooky\n",
            "O nome do Pooky tem 5 letras\n",
            "O Felipe tem um gato chamado: Batman\n",
            "O nome do Batman tem 6 letras\n",
            "O Felipe tem um gato chamado: Kratos\n",
            "O nome do Kratos tem 6 letras\n",
            "O Felipe tem um gato chamado: Felix\n",
            "O nome do Felix tem 5 letras\n",
            "O Felipe tem um gato chamado: Doctor\n",
            "O nome do Doctor tem 6 letras\n",
            "O Felipe tem um gato chamado: Gohan\n",
            "O nome do Gohan tem 5 letras\n",
            "O Felipe tem um gato chamado: Robin\n",
            "O nome do Robin tem 5 letras\n",
            "O Felipe tem um gato chamado: Gandalf\n",
            "O nome do Gandalf tem 7 letras\n",
            "O Felipe tem um gato chamado: Obi-Wan\n",
            "O nome do Obi-Wan tem 7 letras\n"
          ]
        }
      ]
    },
    {
      "cell_type": "code",
      "source": [
        "notas = [8, 7, 3, 2, 10, 7]\n",
        "\n",
        "quantidade = len(notas)\n",
        "\n",
        "nota_total = 0\n",
        "\n",
        "for nota in notas:\n",
        "  nota_total = nota_total + nota\n",
        "\n",
        "media = nota_total / quantidade\n",
        "\n",
        "if media >= 6:\n",
        "  print(\"Parabéns você foi aprovado!\")\n",
        "else:\n",
        "  print(\"Infelizmente você foi reprovado :(\")"
      ],
      "metadata": {
        "colab": {
          "base_uri": "https://localhost:8080/"
        },
        "id": "EExQ7wVWDqWz",
        "outputId": "7d76a6df-5036-4c6d-aab2-85addeb64fe5"
      },
      "execution_count": 64,
      "outputs": [
        {
          "output_type": "stream",
          "name": "stdout",
          "text": [
            "Parabéns você foi aprovado!\n"
          ]
        }
      ]
    },
    {
      "cell_type": "code",
      "source": [
        "quantidade"
      ],
      "metadata": {
        "colab": {
          "base_uri": "https://localhost:8080/"
        },
        "id": "nN9jyzFDESrr",
        "outputId": "06368ad4-b16a-419f-a75d-6d59ccf942cb"
      },
      "execution_count": 55,
      "outputs": [
        {
          "output_type": "execute_result",
          "data": {
            "text/plain": [
              "6"
            ]
          },
          "metadata": {},
          "execution_count": 55
        }
      ]
    },
    {
      "cell_type": "code",
      "source": [
        "nota_total"
      ],
      "metadata": {
        "colab": {
          "base_uri": "https://localhost:8080/"
        },
        "id": "gxJ2ugSNETr_",
        "outputId": "b86057e1-8ed3-4dc2-fce0-d533732c8eed"
      },
      "execution_count": 57,
      "outputs": [
        {
          "output_type": "execute_result",
          "data": {
            "text/plain": [
              "37"
            ]
          },
          "metadata": {},
          "execution_count": 57
        }
      ]
    },
    {
      "cell_type": "code",
      "source": [
        "media"
      ],
      "metadata": {
        "colab": {
          "base_uri": "https://localhost:8080/"
        },
        "id": "TVY1InZOEfrL",
        "outputId": "f952f465-1b14-43c5-8618-4fbd564f9c05"
      },
      "execution_count": 59,
      "outputs": [
        {
          "output_type": "execute_result",
          "data": {
            "text/plain": [
              "6.166666666666667"
            ]
          },
          "metadata": {},
          "execution_count": 59
        }
      ]
    },
    {
      "cell_type": "code",
      "source": [
        "gatinhos = [\"Flash\", \"Greg\", \"Pooky\", \"Batman\", \"Kratos\", \"Felix\", \"Doctor\", \"Gohan\", \"Robin\", \"Gandalf\", \"Obi-Wan\"]\n",
        "# POS          1        2      3        4          5\n",
        "# IND          0        1      2        3          4\n",
        "\n",
        "\n",
        "gato = gatinhos[4] # Quinta posição = Indice 4"
      ],
      "metadata": {
        "id": "ky-6KNcMEsK_"
      },
      "execution_count": 66,
      "outputs": []
    },
    {
      "cell_type": "code",
      "source": [
        ""
      ],
      "metadata": {
        "id": "kCVOwk15Fouf"
      },
      "execution_count": null,
      "outputs": []
    }
  ]
}