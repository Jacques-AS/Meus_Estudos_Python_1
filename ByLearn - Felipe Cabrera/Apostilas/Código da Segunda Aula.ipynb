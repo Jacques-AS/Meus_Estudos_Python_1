{
  "nbformat": 4,
  "nbformat_minor": 0,
  "metadata": {
    "colab": {
      "name": "Aula1.ipynb",
      "provenance": []
    },
    "kernelspec": {
      "name": "python3",
      "display_name": "Python 3"
    },
    "language_info": {
      "name": "python"
    }
  },
  "cells": [
    {
      "cell_type": "markdown",
      "source": [
        "# Meu primeiro contato com o Python\n",
        "\n",
        "Este é o meu primeiro contato com o Python"
      ],
      "metadata": {
        "id": "Zy3ePuSphy0V"
      }
    },
    {
      "cell_type": "code",
      "source": [
        "# Como funciona o Pythonês\n",
        "\n",
        "# Escopo Pai\n",
        "  # Escopo Filho\n",
        "    # Escopo Neto\n",
        "    # Escopo Neto 2\n",
        "  # Escopo Filho 2"
      ],
      "metadata": {
        "id": "BvgeaBmgia8N"
      },
      "execution_count": 8,
      "outputs": []
    },
    {
      "cell_type": "code",
      "source": [
        "print(\"Hello World\")"
      ],
      "metadata": {
        "colab": {
          "base_uri": "https://localhost:8080/"
        },
        "id": "qbNA7Zvnh6eM",
        "outputId": "de511430-d4ac-4555-d2e9-fd41063c6891"
      },
      "execution_count": 5,
      "outputs": [
        {
          "output_type": "stream",
          "name": "stdout",
          "text": [
            "Hello World\n"
          ]
        }
      ]
    },
    {
      "cell_type": "code",
      "source": [
        "print(\"Olá mundo\")"
      ],
      "metadata": {
        "colab": {
          "base_uri": "https://localhost:8080/"
        },
        "id": "1ELGIOmth8pI",
        "outputId": "d7c10777-0933-4c0c-b3e0-ec36b272a5a4"
      },
      "execution_count": 6,
      "outputs": [
        {
          "output_type": "stream",
          "name": "stdout",
          "text": [
            "Olá mundo\n"
          ]
        }
      ]
    },
    {
      "cell_type": "markdown",
      "source": [
        "# Variáveis\n",
        "\n",
        "É um nome que se refere a um valor.\n",
        "\n",
        "A definição de um dado/valor.\n",
        "\n",
        "## Motivação do Uso\n",
        "\n",
        "São usadas para guardar um valor para ser utilizado futuramente na aplicação.\n",
        "\n",
        "\n",
        "## Como usar\n",
        "\n",
        "*nome_da_variavel* = *valor_da_variavel*\n",
        "\n",
        "**Ex:** idade = 25 "
      ],
      "metadata": {
        "id": "Yn_yYvtIiyVm"
      }
    },
    {
      "cell_type": "code",
      "source": [
        "idade = 25"
      ],
      "metadata": {
        "id": "Flnsq7Q8i7ys"
      },
      "execution_count": 11,
      "outputs": []
    },
    {
      "cell_type": "code",
      "source": [
        "altura = 176"
      ],
      "metadata": {
        "id": "L23IBrEZjF6k"
      },
      "execution_count": 12,
      "outputs": []
    },
    {
      "cell_type": "code",
      "source": [
        "primeiro_numero = 10"
      ],
      "metadata": {
        "id": "sIPLJrI3jIO3"
      },
      "execution_count": 14,
      "outputs": []
    },
    {
      "cell_type": "code",
      "source": [
        "idade"
      ],
      "metadata": {
        "colab": {
          "base_uri": "https://localhost:8080/"
        },
        "id": "0JtAjxB8jXuW",
        "outputId": "e111ef55-cd49-427b-bb39-13d0d3596585"
      },
      "execution_count": 15,
      "outputs": [
        {
          "output_type": "execute_result",
          "data": {
            "text/plain": [
              "25"
            ]
          },
          "metadata": {},
          "execution_count": 15
        }
      ]
    },
    {
      "cell_type": "code",
      "source": [
        "altura"
      ],
      "metadata": {
        "colab": {
          "base_uri": "https://localhost:8080/"
        },
        "id": "mqP8D5bcjnfs",
        "outputId": "a2f00ee6-9018-4b10-a699-1ae8e9a31fbc"
      },
      "execution_count": 19,
      "outputs": [
        {
          "output_type": "execute_result",
          "data": {
            "text/plain": [
              "177"
            ]
          },
          "metadata": {},
          "execution_count": 19
        }
      ]
    },
    {
      "cell_type": "code",
      "source": [
        "primeiro_numero"
      ],
      "metadata": {
        "colab": {
          "base_uri": "https://localhost:8080/"
        },
        "id": "OMiLaOgAjp81",
        "outputId": "206cbb7e-452c-4036-a3f2-6b9cc5dcb972"
      },
      "execution_count": 17,
      "outputs": [
        {
          "output_type": "execute_result",
          "data": {
            "text/plain": [
              "10"
            ]
          },
          "metadata": {},
          "execution_count": 17
        }
      ]
    },
    {
      "cell_type": "code",
      "source": [
        "altura = 177"
      ],
      "metadata": {
        "id": "buNYK0Pnjr7g"
      },
      "execution_count": 18,
      "outputs": []
    },
    {
      "cell_type": "code",
      "source": [
        "ano = 2023"
      ],
      "metadata": {
        "id": "REluEXJYkELE"
      },
      "execution_count": 21,
      "outputs": []
    },
    {
      "cell_type": "code",
      "source": [
        "idade = idade + 1"
      ],
      "metadata": {
        "id": "V1Cf0vnZkJNM"
      },
      "execution_count": 22,
      "outputs": []
    },
    {
      "cell_type": "code",
      "source": [
        "# novo_valor = valor_atual + 1"
      ],
      "metadata": {
        "id": "c0BzZ5ErkT8h"
      },
      "execution_count": null,
      "outputs": []
    },
    {
      "cell_type": "code",
      "source": [
        "idade"
      ],
      "metadata": {
        "colab": {
          "base_uri": "https://localhost:8080/"
        },
        "id": "JrC-sU4jkaCE",
        "outputId": "cf5ded01-3b23-4466-9740-9318d9c13dea"
      },
      "execution_count": 23,
      "outputs": [
        {
          "output_type": "execute_result",
          "data": {
            "text/plain": [
              "26"
            ]
          },
          "metadata": {},
          "execution_count": 23
        }
      ]
    },
    {
      "cell_type": "code",
      "source": [
        "segundo_numero = 20"
      ],
      "metadata": {
        "id": "bypDcbqckaQv"
      },
      "execution_count": 24,
      "outputs": []
    },
    {
      "cell_type": "code",
      "source": [
        "soma = primeiro_numero + segundo_numero"
      ],
      "metadata": {
        "id": "WpL8FYZVkgFa"
      },
      "execution_count": 25,
      "outputs": []
    },
    {
      "cell_type": "code",
      "source": [
        "soma"
      ],
      "metadata": {
        "colab": {
          "base_uri": "https://localhost:8080/"
        },
        "id": "sHMkL36skqkW",
        "outputId": "2d1681e9-bc8f-4779-abe1-5ac27e9af516"
      },
      "execution_count": 26,
      "outputs": [
        {
          "output_type": "execute_result",
          "data": {
            "text/plain": [
              "30"
            ]
          },
          "metadata": {},
          "execution_count": 26
        }
      ]
    },
    {
      "cell_type": "code",
      "source": [
        "meu_nome = \"Felipe Cabrera\""
      ],
      "metadata": {
        "id": "5RjQ0mBYkrD4"
      },
      "execution_count": 28,
      "outputs": []
    },
    {
      "cell_type": "code",
      "source": [
        "meu_nome"
      ],
      "metadata": {
        "colab": {
          "base_uri": "https://localhost:8080/",
          "height": 35
        },
        "id": "oE_mmTWnl4rm",
        "outputId": "a4ee0e9e-f063-4dc0-feeb-17406d1aefbf"
      },
      "execution_count": 29,
      "outputs": [
        {
          "output_type": "execute_result",
          "data": {
            "application/vnd.google.colaboratory.intrinsic+json": {
              "type": "string"
            },
            "text/plain": [
              "'Felipe Cabrera'"
            ]
          },
          "metadata": {},
          "execution_count": 29
        }
      ]
    },
    {
      "cell_type": "code",
      "source": [
        "nome = \"Felipe\"\n",
        "sobrenome = \"Cabrera\""
      ],
      "metadata": {
        "id": "HtZwU-1vl_MX"
      },
      "execution_count": 30,
      "outputs": []
    },
    {
      "cell_type": "code",
      "source": [
        "nome_completo = nome + \" \" + sobrenome"
      ],
      "metadata": {
        "id": "8MDsz-bvmLIN"
      },
      "execution_count": 33,
      "outputs": []
    },
    {
      "cell_type": "code",
      "source": [
        "nome_completo"
      ],
      "metadata": {
        "colab": {
          "base_uri": "https://localhost:8080/",
          "height": 35
        },
        "id": "IVQx4fPjmQrt",
        "outputId": "5a2e799f-0588-4dfa-9ce8-26cf6bce1091"
      },
      "execution_count": 34,
      "outputs": [
        {
          "output_type": "execute_result",
          "data": {
            "application/vnd.google.colaboratory.intrinsic+json": {
              "type": "string"
            },
            "text/plain": [
              "'Felipe Cabrera'"
            ]
          },
          "metadata": {},
          "execution_count": 34
        }
      ]
    },
    {
      "cell_type": "markdown",
      "source": [
        "# Tipos de Dados\n",
        "\n",
        "Cada dado (variável) possui o seu próprio tipo. É ele quem define o que aquela variável é (texto, número)...\n",
        "\n",
        "\n",
        "\n",
        "1.   **INT** => INTeiro => São números inteiros\n",
        "2.   **STR** => STRing => São textos, sempre dentro de aspas\n",
        "3.   **FLOAT** => Decimais => Números com \"*virgula*\" (ponto)\n",
        "4.   **BOOL** => Booleano => *Verdadeiro* (True) ou *Falso* (False)"
      ],
      "metadata": {
        "id": "eyW42waXmhOq"
      }
    },
    {
      "cell_type": "code",
      "source": [
        "type(10)"
      ],
      "metadata": {
        "colab": {
          "base_uri": "https://localhost:8080/"
        },
        "id": "2qe7WW91nAx-",
        "outputId": "a8d64a8f-0e8e-45b0-8112-4935cc0c23a9"
      },
      "execution_count": 37,
      "outputs": [
        {
          "output_type": "execute_result",
          "data": {
            "text/plain": [
              "int"
            ]
          },
          "metadata": {},
          "execution_count": 37
        }
      ]
    },
    {
      "cell_type": "code",
      "source": [
        "type('10')"
      ],
      "metadata": {
        "colab": {
          "base_uri": "https://localhost:8080/"
        },
        "id": "cyAn86EdnBpK",
        "outputId": "b4ce3822-a430-4695-ee8e-33abb90a291d"
      },
      "execution_count": 39,
      "outputs": [
        {
          "output_type": "execute_result",
          "data": {
            "text/plain": [
              "str"
            ]
          },
          "metadata": {},
          "execution_count": 39
        }
      ]
    },
    {
      "cell_type": "code",
      "source": [
        "type(\"10\")"
      ],
      "metadata": {
        "colab": {
          "base_uri": "https://localhost:8080/"
        },
        "id": "1KBIzBQXnB_j",
        "outputId": "fe6832bd-f97c-4458-a8d6-9d583e681050"
      },
      "execution_count": 40,
      "outputs": [
        {
          "output_type": "execute_result",
          "data": {
            "text/plain": [
              "str"
            ]
          },
          "metadata": {},
          "execution_count": 40
        }
      ]
    },
    {
      "cell_type": "code",
      "source": [
        "type(3.5)"
      ],
      "metadata": {
        "colab": {
          "base_uri": "https://localhost:8080/"
        },
        "id": "INAQfCOanc5-",
        "outputId": "911a9149-3f31-4b4f-cd49-5c411150cece"
      },
      "execution_count": 43,
      "outputs": [
        {
          "output_type": "execute_result",
          "data": {
            "text/plain": [
              "float"
            ]
          },
          "metadata": {},
          "execution_count": 43
        }
      ]
    },
    {
      "cell_type": "code",
      "source": [
        "verdadeiro = True"
      ],
      "metadata": {
        "id": "A1SnCcwens2B"
      },
      "execution_count": 44,
      "outputs": []
    },
    {
      "cell_type": "code",
      "source": [
        "falso = False"
      ],
      "metadata": {
        "id": "cqJ5bqX_oRbM"
      },
      "execution_count": 45,
      "outputs": []
    },
    {
      "cell_type": "code",
      "source": [
        "type(True)"
      ],
      "metadata": {
        "colab": {
          "base_uri": "https://localhost:8080/"
        },
        "id": "0oPJQ9tnoSOe",
        "outputId": "54001ae5-8dda-4e7a-b1fc-a8c8198a92ca"
      },
      "execution_count": 46,
      "outputs": [
        {
          "output_type": "execute_result",
          "data": {
            "text/plain": [
              "bool"
            ]
          },
          "metadata": {},
          "execution_count": 46
        }
      ]
    },
    {
      "cell_type": "code",
      "source": [
        "type(False)"
      ],
      "metadata": {
        "colab": {
          "base_uri": "https://localhost:8080/"
        },
        "id": "0ofNMSC0oTUn",
        "outputId": "24949706-35b5-4105-8272-5b717fca8232"
      },
      "execution_count": 47,
      "outputs": [
        {
          "output_type": "execute_result",
          "data": {
            "text/plain": [
              "bool"
            ]
          },
          "metadata": {},
          "execution_count": 47
        }
      ]
    },
    {
      "cell_type": "code",
      "source": [
        "\"52\" + \"8\""
      ],
      "metadata": {
        "colab": {
          "base_uri": "https://localhost:8080/",
          "height": 35
        },
        "id": "Au_8kkr2oT2x",
        "outputId": "fac3cdad-6423-4bd1-b5b9-4f7be234111e"
      },
      "execution_count": 48,
      "outputs": [
        {
          "output_type": "execute_result",
          "data": {
            "application/vnd.google.colaboratory.intrinsic+json": {
              "type": "string"
            },
            "text/plain": [
              "'528'"
            ]
          },
          "metadata": {},
          "execution_count": 48
        }
      ]
    },
    {
      "cell_type": "code",
      "source": [
        "52 + 8"
      ],
      "metadata": {
        "colab": {
          "base_uri": "https://localhost:8080/"
        },
        "id": "IRgzGgF9onXH",
        "outputId": "41dfdc91-e3e0-44f1-a94d-a3b7b80bdb87"
      },
      "execution_count": 49,
      "outputs": [
        {
          "output_type": "execute_result",
          "data": {
            "text/plain": [
              "60"
            ]
          },
          "metadata": {},
          "execution_count": 49
        }
      ]
    },
    {
      "cell_type": "code",
      "source": [
        "\"52\" + 8"
      ],
      "metadata": {
        "colab": {
          "base_uri": "https://localhost:8080/",
          "height": 166
        },
        "id": "eagqlfSRowz6",
        "outputId": "c1fdeca1-9a4a-45ec-b793-dbf487e1ad6a"
      },
      "execution_count": 50,
      "outputs": [
        {
          "output_type": "error",
          "ename": "TypeError",
          "evalue": "ignored",
          "traceback": [
            "\u001b[0;31m---------------------------------------------------------------------------\u001b[0m",
            "\u001b[0;31mTypeError\u001b[0m                                 Traceback (most recent call last)",
            "\u001b[0;32m<ipython-input-50-7d431e95c118>\u001b[0m in \u001b[0;36m<module>\u001b[0;34m()\u001b[0m\n\u001b[0;32m----> 1\u001b[0;31m \u001b[0;34m\"52\"\u001b[0m \u001b[0;34m+\u001b[0m \u001b[0;36m8\u001b[0m\u001b[0;34m\u001b[0m\u001b[0;34m\u001b[0m\u001b[0m\n\u001b[0m",
            "\u001b[0;31mTypeError\u001b[0m: can only concatenate str (not \"int\") to str"
          ]
        }
      ]
    },
    {
      "cell_type": "markdown",
      "source": [
        "# Operações Matemágicas\n",
        "\n",
        "Só acontecem com dados numéricos:\n",
        "\n",
        "\n",
        "*   INT\n",
        "*   FLOAT\n",
        "\n"
      ],
      "metadata": {
        "id": "GrEBebt6pSAU"
      }
    },
    {
      "cell_type": "code",
      "source": [
        "soma = 10 + 5"
      ],
      "metadata": {
        "id": "820zbjQQo45U"
      },
      "execution_count": 51,
      "outputs": []
    },
    {
      "cell_type": "code",
      "source": [
        "soma"
      ],
      "metadata": {
        "colab": {
          "base_uri": "https://localhost:8080/"
        },
        "id": "RoKdo3pppnbi",
        "outputId": "50abd385-5466-4883-dc99-e44fab235c48"
      },
      "execution_count": 52,
      "outputs": [
        {
          "output_type": "execute_result",
          "data": {
            "text/plain": [
              "15"
            ]
          },
          "metadata": {},
          "execution_count": 52
        }
      ]
    },
    {
      "cell_type": "code",
      "source": [
        "subtracao = 10 - 5"
      ],
      "metadata": {
        "id": "1GT9PIAJpoiV"
      },
      "execution_count": 53,
      "outputs": []
    },
    {
      "cell_type": "code",
      "source": [
        "subtracao"
      ],
      "metadata": {
        "colab": {
          "base_uri": "https://localhost:8080/"
        },
        "id": "fWpp5m9Fpqgd",
        "outputId": "04ffce66-4973-40da-8979-553d4e693ead"
      },
      "execution_count": 54,
      "outputs": [
        {
          "output_type": "execute_result",
          "data": {
            "text/plain": [
              "5"
            ]
          },
          "metadata": {},
          "execution_count": 54
        }
      ]
    },
    {
      "cell_type": "code",
      "source": [
        "multiplicacao = 10 * 5"
      ],
      "metadata": {
        "id": "xqdawMhSprD8"
      },
      "execution_count": 55,
      "outputs": []
    },
    {
      "cell_type": "code",
      "source": [
        "multiplicacao"
      ],
      "metadata": {
        "colab": {
          "base_uri": "https://localhost:8080/"
        },
        "id": "HV29192kp_Gv",
        "outputId": "a93b0baa-4970-4498-fc64-f4e580aa1bf5"
      },
      "execution_count": 56,
      "outputs": [
        {
          "output_type": "execute_result",
          "data": {
            "text/plain": [
              "50"
            ]
          },
          "metadata": {},
          "execution_count": 56
        }
      ]
    },
    {
      "cell_type": "code",
      "source": [
        "divisao = 10 / 5"
      ],
      "metadata": {
        "id": "Pnokiw4Lp_28"
      },
      "execution_count": 57,
      "outputs": []
    },
    {
      "cell_type": "code",
      "source": [
        "divisao"
      ],
      "metadata": {
        "colab": {
          "base_uri": "https://localhost:8080/"
        },
        "id": "H7WBz4jqqBFp",
        "outputId": "1fc5bc8b-9d2c-4d6f-826d-7cac26915085"
      },
      "execution_count": 58,
      "outputs": [
        {
          "output_type": "execute_result",
          "data": {
            "text/plain": [
              "2.0"
            ]
          },
          "metadata": {},
          "execution_count": 58
        }
      ]
    },
    {
      "cell_type": "code",
      "source": [
        "# Não temos caracteres especiais (ç) nem acentos (~) em nomes de variáveis"
      ],
      "metadata": {
        "id": "lAMZmsIhqBfI"
      },
      "execution_count": 59,
      "outputs": []
    },
    {
      "cell_type": "code",
      "source": [
        "texto = \"Multiplicação\" # No valor tá permitido"
      ],
      "metadata": {
        "id": "o9LBoXoeqJbU"
      },
      "execution_count": 61,
      "outputs": []
    },
    {
      "cell_type": "code",
      "source": [
        "resultado = 10 + 5 * 4 - 2 / 2"
      ],
      "metadata": {
        "id": "1ZN82G4pqL6D"
      },
      "execution_count": 62,
      "outputs": []
    },
    {
      "cell_type": "code",
      "source": [
        "resultado = 10 + 5 * 4 - 2 / 2"
      ],
      "metadata": {
        "id": "8MpIVEKwqZKk"
      },
      "execution_count": 64,
      "outputs": []
    },
    {
      "cell_type": "code",
      "source": [
        "resultado"
      ],
      "metadata": {
        "colab": {
          "base_uri": "https://localhost:8080/"
        },
        "id": "PljdwTs1qhPs",
        "outputId": "60abbf57-a525-4d57-c277-c1fb7dbd116e"
      },
      "execution_count": 65,
      "outputs": [
        {
          "output_type": "execute_result",
          "data": {
            "text/plain": [
              "29.0"
            ]
          },
          "metadata": {},
          "execution_count": 65
        }
      ]
    },
    {
      "cell_type": "code",
      "source": [
        "resultado = 10 + 10 * 2"
      ],
      "metadata": {
        "id": "yQOIclkoqtPI"
      },
      "execution_count": 66,
      "outputs": []
    },
    {
      "cell_type": "code",
      "source": [
        "resultado"
      ],
      "metadata": {
        "colab": {
          "base_uri": "https://localhost:8080/"
        },
        "id": "CrdMWm0VrAQZ",
        "outputId": "38d6b4f2-9ff0-4f91-87f3-30210f141503"
      },
      "execution_count": 67,
      "outputs": [
        {
          "output_type": "execute_result",
          "data": {
            "text/plain": [
              "30"
            ]
          },
          "metadata": {},
          "execution_count": 67
        }
      ]
    },
    {
      "cell_type": "code",
      "source": [
        "assustador = 50 + (10 * 2 - 4 / 2) + 2.5 + 9.6 * 3.2 + (10 / (2 + 1))"
      ],
      "metadata": {
        "id": "LlI8g4ZHrCLa"
      },
      "execution_count": 68,
      "outputs": []
    },
    {
      "cell_type": "code",
      "source": [
        "assustador"
      ],
      "metadata": {
        "colab": {
          "base_uri": "https://localhost:8080/"
        },
        "id": "yvwQk7n8rO1L",
        "outputId": "f4fb00c5-c291-452a-a755-84ce5da7f3fd"
      },
      "execution_count": 69,
      "outputs": [
        {
          "output_type": "execute_result",
          "data": {
            "text/plain": [
              "104.55333333333333"
            ]
          },
          "metadata": {},
          "execution_count": 69
        }
      ]
    },
    {
      "cell_type": "code",
      "source": [
        "potencia = 5 ** 3"
      ],
      "metadata": {
        "id": "4frvgRZOrPSp"
      },
      "execution_count": 72,
      "outputs": []
    },
    {
      "cell_type": "code",
      "source": [
        "potencia"
      ],
      "metadata": {
        "colab": {
          "base_uri": "https://localhost:8080/"
        },
        "id": "jRbntgEhrgHw",
        "outputId": "1e97e58d-2b09-421f-eca3-ba54b2a3ef05"
      },
      "execution_count": 73,
      "outputs": [
        {
          "output_type": "execute_result",
          "data": {
            "text/plain": [
              "125"
            ]
          },
          "metadata": {},
          "execution_count": 73
        }
      ]
    },
    {
      "cell_type": "code",
      "source": [
        "resto_da_divisao = 10 % 3"
      ],
      "metadata": {
        "id": "-e3sJKMfrgqy"
      },
      "execution_count": 74,
      "outputs": []
    },
    {
      "cell_type": "code",
      "source": [
        "resto_da_divisao"
      ],
      "metadata": {
        "colab": {
          "base_uri": "https://localhost:8080/"
        },
        "id": "4GnMnpc_rpqz",
        "outputId": "2d246511-e883-4bb8-c99f-9aa246aad2ff"
      },
      "execution_count": 75,
      "outputs": [
        {
          "output_type": "execute_result",
          "data": {
            "text/plain": [
              "1"
            ]
          },
          "metadata": {},
          "execution_count": 75
        }
      ]
    },
    {
      "cell_type": "code",
      "source": [
        "par = 10 % 2"
      ],
      "metadata": {
        "id": "8BDU5gqtrt_5"
      },
      "execution_count": 76,
      "outputs": []
    },
    {
      "cell_type": "code",
      "source": [
        "par"
      ],
      "metadata": {
        "colab": {
          "base_uri": "https://localhost:8080/"
        },
        "id": "9l_mfAzNrzY6",
        "outputId": "3602205e-f176-4517-a609-e2ea0a7353fc"
      },
      "execution_count": 77,
      "outputs": [
        {
          "output_type": "execute_result",
          "data": {
            "text/plain": [
              "0"
            ]
          },
          "metadata": {},
          "execution_count": 77
        }
      ]
    },
    {
      "cell_type": "code",
      "source": [
        "impar = 9 % 2"
      ],
      "metadata": {
        "id": "5HQpbCDkrzuw"
      },
      "execution_count": 78,
      "outputs": []
    },
    {
      "cell_type": "code",
      "source": [
        "impar"
      ],
      "metadata": {
        "colab": {
          "base_uri": "https://localhost:8080/"
        },
        "id": "xH6nSETvr1SQ",
        "outputId": "81965b21-a72a-4164-8a1d-e75355c5170a"
      },
      "execution_count": 79,
      "outputs": [
        {
          "output_type": "execute_result",
          "data": {
            "text/plain": [
              "1"
            ]
          },
          "metadata": {},
          "execution_count": 79
        }
      ]
    },
    {
      "cell_type": "code",
      "source": [
        "divisao_inteira = 10 // 3"
      ],
      "metadata": {
        "id": "hjgcri6Qr1yM"
      },
      "execution_count": 81,
      "outputs": []
    },
    {
      "cell_type": "code",
      "source": [
        "divisao_inteira"
      ],
      "metadata": {
        "colab": {
          "base_uri": "https://localhost:8080/"
        },
        "id": "5q2XayfEr6T2",
        "outputId": "bdbe6582-e7a1-4362-8ecc-5c972771e684"
      },
      "execution_count": 82,
      "outputs": [
        {
          "output_type": "execute_result",
          "data": {
            "text/plain": [
              "3"
            ]
          },
          "metadata": {},
          "execution_count": 82
        }
      ]
    },
    {
      "cell_type": "code",
      "source": [
        "# IMC => PESO (kg) dividido pela altura (m) ao quadrado\n",
        "# IMC => PESO / (altura * altura)\n",
        "\n",
        "peso = 63.2\n",
        "altura = 1.76\n",
        "\n",
        "imc = peso / (altura ** 2)"
      ],
      "metadata": {
        "id": "uVW_cBMHsAYx"
      },
      "execution_count": 84,
      "outputs": []
    },
    {
      "cell_type": "code",
      "source": [
        "imc"
      ],
      "metadata": {
        "colab": {
          "base_uri": "https://localhost:8080/"
        },
        "id": "yC8LSHTgsK9u",
        "outputId": "8d5ac853-03f6-40c0-e2e3-a172178f847d"
      },
      "execution_count": 85,
      "outputs": [
        {
          "output_type": "execute_result",
          "data": {
            "text/plain": [
              "20.40289256198347"
            ]
          },
          "metadata": {},
          "execution_count": 85
        }
      ]
    },
    {
      "cell_type": "markdown",
      "source": [
        "Magreza, quando o resultado é menor que 18,5 kg/m2;\n",
        "\n",
        "\n",
        "Normal, quando o resultado está entre 18,5 e 24,9 kg/m2;\n",
        "\n",
        "Sobrepeso, quando o resultado está entre 24,9 e 30 kg/m2;\n",
        "\n",
        "Obesidade, quando o resultado é maior que 30 kg/m2."
      ],
      "metadata": {
        "id": "51Y_tueGspjt"
      }
    },
    {
      "cell_type": "markdown",
      "source": [
        "# Métodos de Entrada\n",
        "\n",
        "Forma de ENVIAR um valor ao Python.\n",
        "\n",
        "Ou seja, o usuário escreve algo e o Python recebe o valor"
      ],
      "metadata": {
        "id": "73YBUHdDs3C4"
      }
    },
    {
      "cell_type": "code",
      "source": [
        "nome = input(\"Digite o seu nome: \")"
      ],
      "metadata": {
        "colab": {
          "base_uri": "https://localhost:8080/"
        },
        "id": "6n_xxdN3sar3",
        "outputId": "e0575087-88ca-4b10-b782-9f1ba883f0ca"
      },
      "execution_count": 88,
      "outputs": [
        {
          "name": "stdout",
          "output_type": "stream",
          "text": [
            "Digite o seu nome: Fulano de Tal\n"
          ]
        }
      ]
    },
    {
      "cell_type": "code",
      "source": [
        "nome"
      ],
      "metadata": {
        "colab": {
          "base_uri": "https://localhost:8080/",
          "height": 35
        },
        "id": "fcqwki6HtPz-",
        "outputId": "41c8a4a4-7f3d-4c60-ef16-60a0cd602194"
      },
      "execution_count": 89,
      "outputs": [
        {
          "output_type": "execute_result",
          "data": {
            "application/vnd.google.colaboratory.intrinsic+json": {
              "type": "string"
            },
            "text/plain": [
              "'Fulano de Tal'"
            ]
          },
          "metadata": {},
          "execution_count": 89
        }
      ]
    },
    {
      "cell_type": "code",
      "source": [
        "idade = input(\"Digite a sua idade: \")"
      ],
      "metadata": {
        "colab": {
          "base_uri": "https://localhost:8080/"
        },
        "id": "1FakBQe7th-7",
        "outputId": "89d00d86-f37a-44bb-e6e4-814a99c5b01f"
      },
      "execution_count": 90,
      "outputs": [
        {
          "name": "stdout",
          "output_type": "stream",
          "text": [
            "Digite a sua idade: 30\n"
          ]
        }
      ]
    },
    {
      "cell_type": "code",
      "source": [
        "idade"
      ],
      "metadata": {
        "colab": {
          "base_uri": "https://localhost:8080/",
          "height": 35
        },
        "id": "uWHeAZERtm6U",
        "outputId": "d8344612-5934-45bc-90a1-9b8f9a01e16b"
      },
      "execution_count": 91,
      "outputs": [
        {
          "output_type": "execute_result",
          "data": {
            "application/vnd.google.colaboratory.intrinsic+json": {
              "type": "string"
            },
            "text/plain": [
              "'30'"
            ]
          },
          "metadata": {},
          "execution_count": 91
        }
      ]
    },
    {
      "cell_type": "markdown",
      "source": [
        "PS: O INPUT SEMPRE VAI LER O DADO COMO UMA STRING"
      ],
      "metadata": {
        "id": "GLdJfsAZukdL"
      }
    },
    {
      "cell_type": "code",
      "source": [
        "primeiro_valor = input(\"Digite o primeiro número: \")\n",
        "segundo_valor = input(\"Digite o segundo número: \")\n",
        "\n",
        "soma = primeiro_valor + segundo_valor\n",
        "\n",
        "soma"
      ],
      "metadata": {
        "colab": {
          "base_uri": "https://localhost:8080/",
          "height": 70
        },
        "id": "2YYTl8PltoSo",
        "outputId": "b9973428-4678-4f79-a22b-d0c059f5714e"
      },
      "execution_count": 92,
      "outputs": [
        {
          "name": "stdout",
          "output_type": "stream",
          "text": [
            "Digite o primeiro número: 10\n",
            "Digite o segundo número: 20\n"
          ]
        },
        {
          "output_type": "execute_result",
          "data": {
            "application/vnd.google.colaboratory.intrinsic+json": {
              "type": "string"
            },
            "text/plain": [
              "'1020'"
            ]
          },
          "metadata": {},
          "execution_count": 92
        }
      ]
    },
    {
      "cell_type": "code",
      "source": [
        "type(primeiro_valor)"
      ],
      "metadata": {
        "colab": {
          "base_uri": "https://localhost:8080/"
        },
        "id": "jOTSFRY7uB3c",
        "outputId": "66ad5b1e-b96e-470a-fa2d-fad851a0e611"
      },
      "execution_count": 93,
      "outputs": [
        {
          "output_type": "execute_result",
          "data": {
            "text/plain": [
              "str"
            ]
          },
          "metadata": {},
          "execution_count": 93
        }
      ]
    },
    {
      "cell_type": "code",
      "source": [
        "type(segundo_valor)"
      ],
      "metadata": {
        "colab": {
          "base_uri": "https://localhost:8080/"
        },
        "id": "4P5iqdTfuYBv",
        "outputId": "5a96f14d-0d80-4e06-d777-6bfe86e50880"
      },
      "execution_count": 94,
      "outputs": [
        {
          "output_type": "execute_result",
          "data": {
            "text/plain": [
              "str"
            ]
          },
          "metadata": {},
          "execution_count": 94
        }
      ]
    },
    {
      "cell_type": "markdown",
      "source": [
        "# Conversão (cast) dos Dados\n",
        "\n",
        "É passar o dado de um tipo para outro\n",
        "\n",
        "Ex: Uma string para um Inteiro"
      ],
      "metadata": {
        "id": "JXL3iwjhunmX"
      }
    },
    {
      "cell_type": "markdown",
      "source": [
        "INT => INTeiro => São números inteiros\n",
        "\n",
        "STR => STRing => São textos, sempre dentro de aspas\n",
        "\n",
        "FLOAT => Decimais => Números com \"virgula\" (ponto)\n",
        "\n",
        "BOOL => Booleano => Verdadeiro (True) ou Falso (False)"
      ],
      "metadata": {
        "id": "3_n4-EX1u04u"
      }
    },
    {
      "cell_type": "code",
      "source": [
        "numero = 10"
      ],
      "metadata": {
        "id": "oWgub7guuZ_f"
      },
      "execution_count": 95,
      "outputs": []
    },
    {
      "cell_type": "code",
      "source": [
        "texto = str(numero)"
      ],
      "metadata": {
        "id": "qKNkC6u2u5rP"
      },
      "execution_count": 96,
      "outputs": []
    },
    {
      "cell_type": "code",
      "source": [
        "type(texto)"
      ],
      "metadata": {
        "colab": {
          "base_uri": "https://localhost:8080/"
        },
        "id": "9OOU7YJiu9NV",
        "outputId": "a1f203d1-fe7c-4853-c353-43f92a7bdd15"
      },
      "execution_count": 97,
      "outputs": [
        {
          "output_type": "execute_result",
          "data": {
            "text/plain": [
              "str"
            ]
          },
          "metadata": {},
          "execution_count": 97
        }
      ]
    },
    {
      "cell_type": "code",
      "source": [
        "texto"
      ],
      "metadata": {
        "colab": {
          "base_uri": "https://localhost:8080/",
          "height": 35
        },
        "id": "YGQhAesNu-D-",
        "outputId": "4d709c6a-5eb9-4e57-f833-97395b26d740"
      },
      "execution_count": 98,
      "outputs": [
        {
          "output_type": "execute_result",
          "data": {
            "application/vnd.google.colaboratory.intrinsic+json": {
              "type": "string"
            },
            "text/plain": [
              "'10'"
            ]
          },
          "metadata": {},
          "execution_count": 98
        }
      ]
    },
    {
      "cell_type": "code",
      "source": [
        "meu_texto = \"50\""
      ],
      "metadata": {
        "id": "Q9Z9lRzJu_4e"
      },
      "execution_count": 99,
      "outputs": []
    },
    {
      "cell_type": "code",
      "source": [
        "meu_numero = int(meu_texto)"
      ],
      "metadata": {
        "id": "y2RGgkMIvEBz"
      },
      "execution_count": 100,
      "outputs": []
    },
    {
      "cell_type": "code",
      "source": [
        "meu_numero"
      ],
      "metadata": {
        "colab": {
          "base_uri": "https://localhost:8080/"
        },
        "id": "Vh6iKD_WvGYE",
        "outputId": "06f2ad17-00db-4482-eaae-8b23fc272a8b"
      },
      "execution_count": 101,
      "outputs": [
        {
          "output_type": "execute_result",
          "data": {
            "text/plain": [
              "50"
            ]
          },
          "metadata": {},
          "execution_count": 101
        }
      ]
    },
    {
      "cell_type": "code",
      "source": [
        "type(meu_numero)"
      ],
      "metadata": {
        "colab": {
          "base_uri": "https://localhost:8080/"
        },
        "id": "wO2hrEfavHOx",
        "outputId": "6759f795-8b9d-4677-a52d-4d7b0750b792"
      },
      "execution_count": 102,
      "outputs": [
        {
          "output_type": "execute_result",
          "data": {
            "text/plain": [
              "int"
            ]
          },
          "metadata": {},
          "execution_count": 102
        }
      ]
    },
    {
      "cell_type": "code",
      "source": [
        "meu_float = float(meu_texto)"
      ],
      "metadata": {
        "id": "kdQpzJz7vI9Z"
      },
      "execution_count": 103,
      "outputs": []
    },
    {
      "cell_type": "code",
      "source": [
        "meu_float"
      ],
      "metadata": {
        "colab": {
          "base_uri": "https://localhost:8080/"
        },
        "id": "ZNvbZbqpvLPF",
        "outputId": "60319909-f2ca-4a65-c011-0ce902939795"
      },
      "execution_count": 104,
      "outputs": [
        {
          "output_type": "execute_result",
          "data": {
            "text/plain": [
              "50.0"
            ]
          },
          "metadata": {},
          "execution_count": 104
        }
      ]
    },
    {
      "cell_type": "code",
      "source": [
        "type(meu_float)"
      ],
      "metadata": {
        "colab": {
          "base_uri": "https://localhost:8080/"
        },
        "id": "E-gm9nHNvMzb",
        "outputId": "b0bf0d43-e495-4802-9fa9-0deaac46cbf2"
      },
      "execution_count": 105,
      "outputs": [
        {
          "output_type": "execute_result",
          "data": {
            "text/plain": [
              "float"
            ]
          },
          "metadata": {},
          "execution_count": 105
        }
      ]
    },
    {
      "cell_type": "markdown",
      "source": [
        "# Primeiro Projeto: Calculadora de Soma"
      ],
      "metadata": {
        "id": "K72-6yIRvWY8"
      }
    },
    {
      "cell_type": "code",
      "source": [
        "primeiro_valor = float(input(\"Digite o primeiro número: \"))\n",
        "segundo_valor = float(input(\"Digite o segundo número: \"))\n",
        "\n",
        "soma = primeiro_valor + segundo_valor"
      ],
      "metadata": {
        "colab": {
          "base_uri": "https://localhost:8080/"
        },
        "id": "Q3gICS9xvO6j",
        "outputId": "25f77bb6-d80b-489b-991b-808400416214"
      },
      "execution_count": 110,
      "outputs": [
        {
          "name": "stdout",
          "output_type": "stream",
          "text": [
            "Digite o primeiro número: 10.8\n",
            "Digite o segundo número: 25\n"
          ]
        }
      ]
    },
    {
      "cell_type": "code",
      "source": [
        "soma"
      ],
      "metadata": {
        "colab": {
          "base_uri": "https://localhost:8080/"
        },
        "id": "PYNjsuMIvljg",
        "outputId": "0658b684-49b7-43a2-cabf-9d89cd19cff6"
      },
      "execution_count": 111,
      "outputs": [
        {
          "output_type": "execute_result",
          "data": {
            "text/plain": [
              "35.8"
            ]
          },
          "metadata": {},
          "execution_count": 111
        }
      ]
    },
    {
      "cell_type": "code",
      "source": [
        "primeiro_valor = int(input(\"Digite o primeiro número: \"))\n",
        "segundo_valor = int(input(\"Digite o segundo número: \"))\n",
        "\n",
        "soma = primeiro_valor + segundo_valor"
      ],
      "metadata": {
        "colab": {
          "base_uri": "https://localhost:8080/"
        },
        "id": "RrhuB5NxvniI",
        "outputId": "885ca192-b316-4998-a42f-3e252cd32c9f"
      },
      "execution_count": 116,
      "outputs": [
        {
          "name": "stdout",
          "output_type": "stream",
          "text": [
            "Digite o primeiro número: 10\n",
            "Digite o segundo número: 20\n"
          ]
        }
      ]
    },
    {
      "cell_type": "code",
      "source": [
        "soma"
      ],
      "metadata": {
        "colab": {
          "base_uri": "https://localhost:8080/"
        },
        "id": "NdTjhx2jwMAD",
        "outputId": "c9207dd3-f0e4-4aa7-8716-577959780320"
      },
      "execution_count": 114,
      "outputs": [
        {
          "output_type": "execute_result",
          "data": {
            "text/plain": [
              "30"
            ]
          },
          "metadata": {},
          "execution_count": 114
        }
      ]
    },
    {
      "cell_type": "markdown",
      "source": [
        "# Métodos de Saída\n",
        "\n",
        "Formas de \"retirar\" o valor do Python.\n",
        "\n",
        "Ou seja, mostrar um dado para o usuário"
      ],
      "metadata": {
        "id": "NVrCkIDnwezv"
      }
    },
    {
      "cell_type": "code",
      "source": [
        "print(\"Hello World\")"
      ],
      "metadata": {
        "colab": {
          "base_uri": "https://localhost:8080/"
        },
        "id": "OjCnsqCPwNIx",
        "outputId": "10ae86d2-d39f-47c3-e2cc-afce6be81710"
      },
      "execution_count": 117,
      "outputs": [
        {
          "output_type": "stream",
          "name": "stdout",
          "text": [
            "Hello World\n"
          ]
        }
      ]
    },
    {
      "cell_type": "code",
      "source": [
        "print(\"O meu nome é Felipe\")"
      ],
      "metadata": {
        "colab": {
          "base_uri": "https://localhost:8080/"
        },
        "id": "tSME7H_0woj2",
        "outputId": "4f889561-1971-4af5-8f7a-2b89cfffe7be"
      },
      "execution_count": 118,
      "outputs": [
        {
          "output_type": "stream",
          "name": "stdout",
          "text": [
            "O meu nome é Felipe\n"
          ]
        }
      ]
    },
    {
      "cell_type": "code",
      "source": [
        "nome = \"Felipe\"\n",
        "idade = 25\n",
        "\n",
        "print(\"O meu nome é\", nome, \"e minha idade é\", idade, \"anos\")"
      ],
      "metadata": {
        "colab": {
          "base_uri": "https://localhost:8080/"
        },
        "id": "luf5bAbYwqcM",
        "outputId": "2e965b30-e2f7-4b89-d2c4-c496e68f761b"
      },
      "execution_count": 123,
      "outputs": [
        {
          "output_type": "stream",
          "name": "stdout",
          "text": [
            "O meu nome é Felipe e minha idade é 25 anos\n"
          ]
        }
      ]
    },
    {
      "cell_type": "code",
      "source": [
        "variavel = \"TESTE_DE_VALOR\"\n",
        "\n",
        "print(\"Texto com variáveis: \", variavel)"
      ],
      "metadata": {
        "colab": {
          "base_uri": "https://localhost:8080/"
        },
        "id": "NsxYV76ywwAj",
        "outputId": "70c14003-b0ea-4ba9-b664-3539e7ac3c96"
      },
      "execution_count": 124,
      "outputs": [
        {
          "output_type": "stream",
          "name": "stdout",
          "text": [
            "Texto com variáveis:  TESTE_DE_VALOR\n"
          ]
        }
      ]
    },
    {
      "cell_type": "code",
      "source": [
        "nome = \"Felipe\"\n",
        "sobrenome = \"Cabrera\"\n",
        "idade = 25\n",
        "altura = 1.76\n",
        "\n",
        "print(f\"O {nome} {sobrenome} tem {idade} anos e {altura} metros\") # f-string "
      ],
      "metadata": {
        "colab": {
          "base_uri": "https://localhost:8080/"
        },
        "id": "f0DEDMgcxZSx",
        "outputId": "f6cac4be-cdc1-485f-f80f-406262f53095"
      },
      "execution_count": 126,
      "outputs": [
        {
          "output_type": "stream",
          "name": "stdout",
          "text": [
            "O Felipe Cabrera tem 25 anos e 1.76 metros\n"
          ]
        }
      ]
    },
    {
      "cell_type": "code",
      "source": [
        "peso = 63.2\n",
        "altura = 1.76\n",
        "\n",
        "imc = peso / (altura ** 2)\n",
        "\n",
        "print(f\"Meu IMC é: {imc:.3f}\")"
      ],
      "metadata": {
        "colab": {
          "base_uri": "https://localhost:8080/"
        },
        "id": "ewoytEz4yI_C",
        "outputId": "2daab5a2-e3e8-4bbe-f945-3e74f3b2233f"
      },
      "execution_count": 129,
      "outputs": [
        {
          "output_type": "stream",
          "name": "stdout",
          "text": [
            "Meu IMC é: 20.403\n"
          ]
        }
      ]
    },
    {
      "cell_type": "markdown",
      "source": [
        "# Meu Primeiro Projeto: Calculadora TOP!"
      ],
      "metadata": {
        "id": "L1q-pfpLzlHk"
      }
    },
    {
      "cell_type": "code",
      "source": [
        "print(\"Bem Vindo a ByCalculator 2000\")\n",
        "print(\"Vamos executar várias operações com base em dois números\")\n",
        "\n",
        "primeiro_numero = float(input(\"Digite o primeiro número: \"))\n",
        "segundo_numero = float(input(\"Digite o segundo número: \"))\n",
        "\n",
        "soma = primeiro_numero + segundo_numero\n",
        "multiplicacao = primeiro_numero * segundo_numero\n",
        "divisao = primeiro_numero / segundo_numero\n",
        "subtracao = primeiro_numero - segundo_numero\n",
        "\n",
        "resto_divisao = primeiro_numero % segundo_numero\n",
        "divisao_inteira = primeiro_numero // segundo_numero\n",
        "\n",
        "primeiro_quadrado = primeiro_numero ** 2\n",
        "segundo_cubo = segundo_numero ** 3\n",
        "\n",
        "print(f\"{primeiro_numero} + {segundo_numero} = {soma}\")\n",
        "print(f\"{primeiro_numero} * {segundo_numero} = {multiplicacao}\")\n",
        "print(f\"{primeiro_numero} / {segundo_numero} = {divisao}\")\n",
        "print(f\"{primeiro_numero} - {segundo_numero} = {subtracao}\")\n",
        "print(f\"O resto da divisão de {primeiro_numero} por {segundo_numero} = {resto_divisao}\")\n",
        "print(f\"A divisão inteira de {primeiro_numero} por {segundo_numero} = {divisao_inteira}\")\n",
        "print(f\"{primeiro_numero} ao quadrado = {primeiro_quadrado}\")\n",
        "print(f\"{segundo_numero} ao cubo = {segundo_cubo}\")"
      ],
      "metadata": {
        "colab": {
          "base_uri": "https://localhost:8080/"
        },
        "id": "rDEitnk1yXVn",
        "outputId": "4d434772-d007-496b-bc8c-ba5372823b2e"
      },
      "execution_count": 132,
      "outputs": [
        {
          "output_type": "stream",
          "name": "stdout",
          "text": [
            "Bem Vindo a ByCalculator 2000\n",
            "Vamos executar várias operações com base em dois números\n",
            "Digite o primeiro número: 5\n",
            "Digite o segundo número: 2\n",
            "5.0 + 2.0 = 7.0\n",
            "5.0 * 2.0 = 10.0\n",
            "5.0 / 2.0 = 2.5\n",
            "5.0 - 2.0 = 3.0\n",
            "O resto da divisão de 5.0 por 2.0 = 1.0\n",
            "A divisão inteira de 5.0 por 2.0 = 2.0\n",
            "5.0 ao quadrado = 25.0\n",
            "2.0 ao cubo = 8.0\n"
          ]
        }
      ]
    },
    {
      "cell_type": "markdown",
      "source": [
        "# Listas\n",
        "\n",
        "Dados sequenciais"
      ],
      "metadata": {
        "id": "QnTeDBnY6iEV"
      }
    },
    {
      "cell_type": "code",
      "source": [
        "animais = ['Cachorro', 'Gato', 'Coelho', 'Furão', 'Hamster']\n",
        "# posicao =    1          2      3          4         5\n",
        "# indice =     0          1      2          3         4 "
      ],
      "metadata": {
        "id": "vgZYK8qTzz4P"
      },
      "execution_count": 133,
      "outputs": []
    },
    {
      "cell_type": "code",
      "source": [
        "luninha = animais[0]\n",
        "lollo = animais[2]"
      ],
      "metadata": {
        "id": "cw9fZ5pw6ySc"
      },
      "execution_count": 135,
      "outputs": []
    },
    {
      "cell_type": "code",
      "source": [
        "doctor = animais[1]\n",
        "shura = animais[3]"
      ],
      "metadata": {
        "id": "fUrKifhz67PN"
      },
      "execution_count": 136,
      "outputs": []
    },
    {
      "cell_type": "code",
      "source": [
        "dwight = animais[4]"
      ],
      "metadata": {
        "id": "rh7p-BCy7A7Z"
      },
      "execution_count": 137,
      "outputs": []
    },
    {
      "cell_type": "code",
      "source": [
        "print(\"A luninha é\", luninha)"
      ],
      "metadata": {
        "colab": {
          "base_uri": "https://localhost:8080/"
        },
        "id": "RbZkDbkf7FiE",
        "outputId": "44f1abab-05dd-4550-b1c1-39620213f3e5"
      },
      "execution_count": 138,
      "outputs": [
        {
          "output_type": "stream",
          "name": "stdout",
          "text": [
            "A luninha é Cachorro\n"
          ]
        }
      ]
    },
    {
      "cell_type": "code",
      "source": [
        "print(\"O Lollo é\", lollo)"
      ],
      "metadata": {
        "colab": {
          "base_uri": "https://localhost:8080/"
        },
        "id": "OavZtWZe7ReE",
        "outputId": "7b47f1d6-ec1d-459b-daa7-3f265dc41964"
      },
      "execution_count": 139,
      "outputs": [
        {
          "output_type": "stream",
          "name": "stdout",
          "text": [
            "O Lollo é Coelho\n"
          ]
        }
      ]
    },
    {
      "cell_type": "code",
      "source": [
        "print(\"O Doctor é\", doctor)\n",
        "print(\"A Shura é\", shura)\n",
        "print(\"O Dwight é\", dwight)"
      ],
      "metadata": {
        "colab": {
          "base_uri": "https://localhost:8080/"
        },
        "id": "OWB6CCBj7TD7",
        "outputId": "cada1172-b664-477d-c25d-cecb412ff314"
      },
      "execution_count": 140,
      "outputs": [
        {
          "output_type": "stream",
          "name": "stdout",
          "text": [
            "O Doctor é Gato\n",
            "A Shura é Furão\n",
            "O Dwight é Hamster\n"
          ]
        }
      ]
    },
    {
      "cell_type": "code",
      "source": [
        "tudo_junto_e_misturado = [\"Eu sou um texto\", 2, 10.54, True]"
      ],
      "metadata": {
        "id": "Q76VylQ17Zj6"
      },
      "execution_count": 141,
      "outputs": []
    },
    {
      "cell_type": "code",
      "source": [
        "tudo_junto_e_misturado[3]"
      ],
      "metadata": {
        "colab": {
          "base_uri": "https://localhost:8080/"
        },
        "id": "3MShsniW7jjm",
        "outputId": "c1871b1a-4259-451f-f1d1-d8039d218698"
      },
      "execution_count": 142,
      "outputs": [
        {
          "output_type": "execute_result",
          "data": {
            "text/plain": [
              "True"
            ]
          },
          "metadata": {},
          "execution_count": 142
        }
      ]
    },
    {
      "cell_type": "code",
      "source": [
        "type(tudo_junto_e_misturado[3])"
      ],
      "metadata": {
        "colab": {
          "base_uri": "https://localhost:8080/"
        },
        "id": "Y_EBFgGs7lH1",
        "outputId": "1660e46c-14f4-4a5a-cf1b-07f90a2b0571"
      },
      "execution_count": 143,
      "outputs": [
        {
          "output_type": "execute_result",
          "data": {
            "text/plain": [
              "bool"
            ]
          },
          "metadata": {},
          "execution_count": 143
        }
      ]
    },
    {
      "cell_type": "code",
      "source": [
        "nome = \"Felipe\"\n",
        "idade = 25\n",
        "altura = 1.76\n",
        "ama_gatos = True \n",
        "\n",
        "lista_felipe = [nome, idade, altura, ama_gatos]"
      ],
      "metadata": {
        "id": "gSM5ehWK7mT_"
      },
      "execution_count": 144,
      "outputs": []
    },
    {
      "cell_type": "code",
      "source": [
        "print(f\"Olá, meu nome é {lista_felipe[0]} e tenho {lista_felipe[1]} anos\")"
      ],
      "metadata": {
        "colab": {
          "base_uri": "https://localhost:8080/"
        },
        "id": "QKxjmhJP7uf5",
        "outputId": "7793b3e7-8308-4acc-cf56-9ea92033b19e"
      },
      "execution_count": 147,
      "outputs": [
        {
          "output_type": "stream",
          "name": "stdout",
          "text": [
            "Olá, meu nome é Felipe e tenho 25 anos\n"
          ]
        }
      ]
    },
    {
      "cell_type": "markdown",
      "source": [
        "Geladeira:\n",
        " * Doce: \n",
        "     * Pudim\n",
        "     * Gelatina\n",
        " * Refrigerante:\n",
        "     * Coca-Cola\n",
        "     * Guaraná"
      ],
      "metadata": {
        "id": "kARjpGjb8NMw"
      }
    },
    {
      "cell_type": "code",
      "source": [
        "geladeira = [  [\"Pudim\", \"Gelatina\"]       ,      [\"Pepsi\", \"Guaraná\"]   ]"
      ],
      "metadata": {
        "id": "BQOFEFVH7wc4"
      },
      "execution_count": 162,
      "outputs": []
    },
    {
      "cell_type": "code",
      "source": [
        "doces = geladeira[0]"
      ],
      "metadata": {
        "id": "wtedvMHp8iDd"
      },
      "execution_count": 163,
      "outputs": []
    },
    {
      "cell_type": "code",
      "source": [
        "gelatina = doces[1]"
      ],
      "metadata": {
        "id": "sr4X-Le-8pLP"
      },
      "execution_count": 164,
      "outputs": []
    },
    {
      "cell_type": "code",
      "source": [
        "refrigerantes = geladeira[1]"
      ],
      "metadata": {
        "id": "rjhxaGHR8sf7"
      },
      "execution_count": 165,
      "outputs": []
    },
    {
      "cell_type": "code",
      "source": [
        "pepsi = refrigerantes[0]"
      ],
      "metadata": {
        "id": "kTBUTkQi8urq"
      },
      "execution_count": 166,
      "outputs": []
    },
    {
      "cell_type": "code",
      "source": [
        "print(f\"O saudável Felipe jantou {gelatina} com {pepsi}\")"
      ],
      "metadata": {
        "colab": {
          "base_uri": "https://localhost:8080/"
        },
        "id": "fIG1oL0k8wyY",
        "outputId": "c1f20fc9-1da2-4cf5-d471-cffcff0078b9"
      },
      "execution_count": 167,
      "outputs": [
        {
          "output_type": "stream",
          "name": "stdout",
          "text": [
            "O saudável Felipe jantou Gelatina com Pepsi\n"
          ]
        }
      ]
    },
    {
      "cell_type": "code",
      "source": [
        ""
      ],
      "metadata": {
        "id": "6p_Rs0-r84hq"
      },
      "execution_count": null,
      "outputs": []
    }
  ]
}